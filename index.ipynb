{
 "cells": [
  {
   "cell_type": "markdown",
   "metadata": {},
   "source": [
    "# One-to-Many and Many-to-Many Joins - Lab"
   ]
  },
  {
   "cell_type": "markdown",
   "metadata": {},
   "source": [
    "## Introduction"
   ]
  },
  {
   "cell_type": "markdown",
   "metadata": {},
   "source": [
    "In this lab, you'll practice your knowledge of one-to-many and many-to-many relationships!"
   ]
  },
  {
   "cell_type": "markdown",
   "metadata": {},
   "source": [
    "## Objectives"
   ]
  },
  {
   "cell_type": "markdown",
   "metadata": {},
   "source": [
    "You will be able to:\n",
    "* Explain one-to-many and many-to-many joins as well as implications for the size of query results\n",
    "* Query data using one-to-many and many-to-many joins"
   ]
  },
  {
   "cell_type": "markdown",
   "metadata": {},
   "source": [
    "## One-to-Many and Many-to-Many Joins\n",
    "<img src='images/Database-Schema.png' width=\"600\">"
   ]
  },
  {
   "cell_type": "markdown",
   "metadata": {},
   "source": [
    "## Connect to the Database"
   ]
  },
  {
   "cell_type": "code",
   "execution_count": 1,
   "metadata": {},
   "outputs": [],
   "source": [
    "# Your code here\n",
    "import sqlite3\n",
    "import pandas as pd\n",
    "\n",
    "conn = sqlite3.connect('data.sqlite')\n",
    "cur = conn.cursor()"
   ]
  },
  {
   "cell_type": "markdown",
   "metadata": {},
   "source": [
    "## Employees and their Office (a One-to-One join)\n",
    "\n",
    "Return a DataFrame with all of the employees including their first name and last name along with the city and state of the office that they work out of (if they have one). Include all employees and order them by their first name, then their last name."
   ]
  },
  {
   "cell_type": "code",
   "execution_count": 4,
   "metadata": {},
   "outputs": [
    {
     "name": "stdout",
     "output_type": "stream",
     "text": [
      "<class 'pandas.core.frame.DataFrame'>\n",
      "RangeIndex: 23 entries, 0 to 22\n",
      "Data columns (total 4 columns):\n",
      "lastName     23 non-null object\n",
      "firstName    23 non-null object\n",
      "city         23 non-null object\n",
      "state        23 non-null object\n",
      "dtypes: object(4)\n",
      "memory usage: 864.0+ bytes\n",
      "None\n"
     ]
    }
   ],
   "source": [
    "# Your code here\n",
    "cur.execute(\"\"\"SELECT lastName, firstName, city, state FROM employees JOIN offices USING(officeCode) ORDER BY firstName, lastName;\"\"\")\n",
    "df = pd.DataFrame(cur.fetchall())\n",
    "df.columns = [x[0] for x in cur.description]\n",
    "df.head()\n",
    "print(df.info())"
   ]
  },
  {
   "cell_type": "markdown",
   "metadata": {},
   "source": [
    "## Customers and their Orders (a One-to-Many join)\n",
    "\n",
    "Return a DataFrame with all of the customer contacts (first and last names) along with details for each of the customers' order numbers, order dates, and statuses."
   ]
  },
  {
   "cell_type": "code",
   "execution_count": 6,
   "metadata": {},
   "outputs": [
    {
     "data": {
      "text/html": [
       "<div>\n",
       "<style scoped>\n",
       "    .dataframe tbody tr th:only-of-type {\n",
       "        vertical-align: middle;\n",
       "    }\n",
       "\n",
       "    .dataframe tbody tr th {\n",
       "        vertical-align: top;\n",
       "    }\n",
       "\n",
       "    .dataframe thead th {\n",
       "        text-align: right;\n",
       "    }\n",
       "</style>\n",
       "<table border=\"1\" class=\"dataframe\">\n",
       "  <thead>\n",
       "    <tr style=\"text-align: right;\">\n",
       "      <th></th>\n",
       "      <th>contactLastName</th>\n",
       "      <th>contactFirstName</th>\n",
       "      <th>orderNumber</th>\n",
       "      <th>orderDate</th>\n",
       "      <th>status</th>\n",
       "    </tr>\n",
       "  </thead>\n",
       "  <tbody>\n",
       "    <tr>\n",
       "      <td>0</td>\n",
       "      <td>Schmitt</td>\n",
       "      <td>Carine</td>\n",
       "      <td>10123</td>\n",
       "      <td>2003-05-20</td>\n",
       "      <td>Shipped</td>\n",
       "    </tr>\n",
       "    <tr>\n",
       "      <td>1</td>\n",
       "      <td>Schmitt</td>\n",
       "      <td>Carine</td>\n",
       "      <td>10298</td>\n",
       "      <td>2004-09-27</td>\n",
       "      <td>Shipped</td>\n",
       "    </tr>\n",
       "    <tr>\n",
       "      <td>2</td>\n",
       "      <td>Schmitt</td>\n",
       "      <td>Carine</td>\n",
       "      <td>10345</td>\n",
       "      <td>2004-11-25</td>\n",
       "      <td>Shipped</td>\n",
       "    </tr>\n",
       "    <tr>\n",
       "      <td>3</td>\n",
       "      <td>King</td>\n",
       "      <td>Jean</td>\n",
       "      <td>10124</td>\n",
       "      <td>2003-05-21</td>\n",
       "      <td>Shipped</td>\n",
       "    </tr>\n",
       "    <tr>\n",
       "      <td>4</td>\n",
       "      <td>King</td>\n",
       "      <td>Jean</td>\n",
       "      <td>10278</td>\n",
       "      <td>2004-08-06</td>\n",
       "      <td>Shipped</td>\n",
       "    </tr>\n",
       "  </tbody>\n",
       "</table>\n",
       "</div>"
      ],
      "text/plain": [
       "  contactLastName contactFirstName  orderNumber   orderDate   status\n",
       "0         Schmitt          Carine         10123  2003-05-20  Shipped\n",
       "1         Schmitt          Carine         10298  2004-09-27  Shipped\n",
       "2         Schmitt          Carine         10345  2004-11-25  Shipped\n",
       "3            King             Jean        10124  2003-05-21  Shipped\n",
       "4            King             Jean        10278  2004-08-06  Shipped"
      ]
     },
     "execution_count": 6,
     "metadata": {},
     "output_type": "execute_result"
    }
   ],
   "source": [
    "# Your code here\n",
    "cur.execute(\"\"\"SELECT contactLastName, contactFirstName, orderNumber, orderDate, status FROM customers JOIN orders USING(customerNumber);\"\"\")\n",
    "df = pd.DataFrame(cur.fetchall())\n",
    "df.columns = [x[0] for x in cur.description]\n",
    "df.head()"
   ]
  },
  {
   "cell_type": "markdown",
   "metadata": {},
   "source": [
    "## Customers and their Payments (another One-to-Many join)\n",
    "\n",
    "Return a DataFrame with all of the customer contacts (first and last names) along with details for each of the customers' payment amounts and date of payment. Sort these results in descending order by the payment amount. "
   ]
  },
  {
   "cell_type": "code",
   "execution_count": 7,
   "metadata": {},
   "outputs": [
    {
     "data": {
      "text/html": [
       "<div>\n",
       "<style scoped>\n",
       "    .dataframe tbody tr th:only-of-type {\n",
       "        vertical-align: middle;\n",
       "    }\n",
       "\n",
       "    .dataframe tbody tr th {\n",
       "        vertical-align: top;\n",
       "    }\n",
       "\n",
       "    .dataframe thead th {\n",
       "        text-align: right;\n",
       "    }\n",
       "</style>\n",
       "<table border=\"1\" class=\"dataframe\">\n",
       "  <thead>\n",
       "    <tr style=\"text-align: right;\">\n",
       "      <th></th>\n",
       "      <th>contactLastName</th>\n",
       "      <th>contactFirstName</th>\n",
       "      <th>paymentDate</th>\n",
       "      <th>amount</th>\n",
       "    </tr>\n",
       "  </thead>\n",
       "  <tbody>\n",
       "    <tr>\n",
       "      <td>0</td>\n",
       "      <td>Schmitt</td>\n",
       "      <td>Carine</td>\n",
       "      <td>2003-06-05</td>\n",
       "      <td>14571.44</td>\n",
       "    </tr>\n",
       "    <tr>\n",
       "      <td>1</td>\n",
       "      <td>Schmitt</td>\n",
       "      <td>Carine</td>\n",
       "      <td>2004-10-19</td>\n",
       "      <td>6066.78</td>\n",
       "    </tr>\n",
       "    <tr>\n",
       "      <td>2</td>\n",
       "      <td>Schmitt</td>\n",
       "      <td>Carine</td>\n",
       "      <td>2004-12-18</td>\n",
       "      <td>1676.14</td>\n",
       "    </tr>\n",
       "    <tr>\n",
       "      <td>3</td>\n",
       "      <td>King</td>\n",
       "      <td>Jean</td>\n",
       "      <td>2003-06-06</td>\n",
       "      <td>32641.98</td>\n",
       "    </tr>\n",
       "    <tr>\n",
       "      <td>4</td>\n",
       "      <td>King</td>\n",
       "      <td>Jean</td>\n",
       "      <td>2004-08-20</td>\n",
       "      <td>33347.88</td>\n",
       "    </tr>\n",
       "  </tbody>\n",
       "</table>\n",
       "</div>"
      ],
      "text/plain": [
       "  contactLastName contactFirstName paymentDate    amount\n",
       "0         Schmitt          Carine   2003-06-05  14571.44\n",
       "1         Schmitt          Carine   2004-10-19   6066.78\n",
       "2         Schmitt          Carine   2004-12-18   1676.14\n",
       "3            King             Jean  2003-06-06  32641.98\n",
       "4            King             Jean  2004-08-20  33347.88"
      ]
     },
     "execution_count": 7,
     "metadata": {},
     "output_type": "execute_result"
    }
   ],
   "source": [
    "# Your code here\n",
    "cur.execute(\"\"\"SELECT contactLastName, contactFirstName, paymentDate, amount FROM customers JOIN payments USING(customerNumber);\"\"\")\n",
    "df = pd.DataFrame(cur.fetchall())\n",
    "df.columns = [x[0] for x in cur.description]\n",
    "df.head()"
   ]
  },
  {
   "cell_type": "markdown",
   "metadata": {},
   "source": [
    "## Orders, Order details, and Product Details (a Many-to-Many Join)"
   ]
  },
  {
   "cell_type": "markdown",
   "metadata": {},
   "source": [
    "Return a DataFrame with all of the customer contacts (first and last names) along with the product names, quantities, and date ordered for each of the customers and each of their orders. Sort these in descending order by the order date.\n",
    "\n",
    "> Note: This will require joining 4 tables! This can be tricky! Give it a shot, and if you're still stuck, turn to the next section where you'll see how to write subqueries that can make complex queries such as this much simpler!"
   ]
  },
  {
   "cell_type": "code",
   "execution_count": 8,
   "metadata": {},
   "outputs": [
    {
     "data": {
      "text/html": [
       "<div>\n",
       "<style scoped>\n",
       "    .dataframe tbody tr th:only-of-type {\n",
       "        vertical-align: middle;\n",
       "    }\n",
       "\n",
       "    .dataframe tbody tr th {\n",
       "        vertical-align: top;\n",
       "    }\n",
       "\n",
       "    .dataframe thead th {\n",
       "        text-align: right;\n",
       "    }\n",
       "</style>\n",
       "<table border=\"1\" class=\"dataframe\">\n",
       "  <thead>\n",
       "    <tr style=\"text-align: right;\">\n",
       "      <th></th>\n",
       "      <th>contactLastName</th>\n",
       "      <th>contactFirstName</th>\n",
       "      <th>productName</th>\n",
       "      <th>quantityOrdered</th>\n",
       "      <th>orderDate</th>\n",
       "    </tr>\n",
       "  </thead>\n",
       "  <tbody>\n",
       "    <tr>\n",
       "      <td>0</td>\n",
       "      <td>Labrune</td>\n",
       "      <td>Janine</td>\n",
       "      <td>1962 LanciaA Delta 16V</td>\n",
       "      <td>38</td>\n",
       "      <td>2005-05-31</td>\n",
       "    </tr>\n",
       "    <tr>\n",
       "      <td>1</td>\n",
       "      <td>Labrune</td>\n",
       "      <td>Janine</td>\n",
       "      <td>1957 Chevy Pickup</td>\n",
       "      <td>33</td>\n",
       "      <td>2005-05-31</td>\n",
       "    </tr>\n",
       "    <tr>\n",
       "      <td>2</td>\n",
       "      <td>Labrune</td>\n",
       "      <td>Janine</td>\n",
       "      <td>1998 Chrysler Plymouth Prowler</td>\n",
       "      <td>28</td>\n",
       "      <td>2005-05-31</td>\n",
       "    </tr>\n",
       "    <tr>\n",
       "      <td>3</td>\n",
       "      <td>Labrune</td>\n",
       "      <td>Janine</td>\n",
       "      <td>1964 Mercedes Tour Bus</td>\n",
       "      <td>38</td>\n",
       "      <td>2005-05-31</td>\n",
       "    </tr>\n",
       "    <tr>\n",
       "      <td>4</td>\n",
       "      <td>Labrune</td>\n",
       "      <td>Janine</td>\n",
       "      <td>1926 Ford Fire Engine</td>\n",
       "      <td>19</td>\n",
       "      <td>2005-05-31</td>\n",
       "    </tr>\n",
       "  </tbody>\n",
       "</table>\n",
       "</div>"
      ],
      "text/plain": [
       "  contactLastName contactFirstName                     productName  \\\n",
       "0         Labrune          Janine           1962 LanciaA Delta 16V   \n",
       "1         Labrune          Janine                1957 Chevy Pickup   \n",
       "2         Labrune          Janine   1998 Chrysler Plymouth Prowler   \n",
       "3         Labrune          Janine           1964 Mercedes Tour Bus   \n",
       "4         Labrune          Janine            1926 Ford Fire Engine   \n",
       "\n",
       "   quantityOrdered   orderDate  \n",
       "0               38  2005-05-31  \n",
       "1               33  2005-05-31  \n",
       "2               28  2005-05-31  \n",
       "3               38  2005-05-31  \n",
       "4               19  2005-05-31  "
      ]
     },
     "execution_count": 8,
     "metadata": {},
     "output_type": "execute_result"
    }
   ],
   "source": [
    "# Your code here\n",
    "cur.execute(\"\"\"SELECT contactLastName, contactFirstName, productName, quantityOrdered, orderDate \n",
    "               FROM customers \n",
    "               JOIN orders USING(customerNumber)\n",
    "               JOIN orderdetails USING(orderNumber)\n",
    "               JOIN products USING(productCode)\n",
    "               ORDER BY orderDate DESC\n",
    "               ;\"\"\")\n",
    "df = pd.DataFrame(cur.fetchall())\n",
    "df.columns = [x[0] for x in cur.description]\n",
    "df.head()"
   ]
  },
  {
   "cell_type": "markdown",
   "metadata": {},
   "source": [
    "## Summary"
   ]
  },
  {
   "cell_type": "markdown",
   "metadata": {},
   "source": [
    "In this lab, you practiced your knowledge of one-to-many and many-to-many relationships!"
   ]
  }
 ],
 "metadata": {
  "kernelspec": {
   "display_name": "Python 3",
   "language": "python",
   "name": "python3"
  },
  "language_info": {
   "codemirror_mode": {
    "name": "ipython",
    "version": 3
   },
   "file_extension": ".py",
   "mimetype": "text/x-python",
   "name": "python",
   "nbconvert_exporter": "python",
   "pygments_lexer": "ipython3",
   "version": "3.7.4"
  },
  "toc": {
   "base_numbering": 1,
   "nav_menu": {},
   "number_sections": true,
   "sideBar": true,
   "skip_h1_title": false,
   "title_cell": "Table of Contents",
   "title_sidebar": "Contents",
   "toc_cell": false,
   "toc_position": {},
   "toc_section_display": true,
   "toc_window_display": false
  }
 },
 "nbformat": 4,
 "nbformat_minor": 2
}
